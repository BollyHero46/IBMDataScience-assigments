{
 "cells": [
  {
   "cell_type": "markdown",
   "id": "adb399cc-2c84-4a83-8ae3-fd972624c48f",
   "metadata": {},
   "source": [
    "<h1><br>(2)</br>Data Science Tools and Ecosystem</h1>"
   ]
  },
  {
   "cell_type": "markdown",
   "id": "46a76389-a13c-4410-ba78-6189750e2356",
   "metadata": {},
   "source": [
    "(10)\n",
    "<b>Objectives:</b>\n",
    "<ol>\n",
    "    <li>show basic markup language skills</li>\n",
    "    <li>show basic python language skills</li>\n",
    "    <li>demonstrate ability to use JupyterLab</li>\n",
    "    <li>learn something</li>\n",
    "</ol>"
   ]
  },
  {
   "cell_type": "markdown",
   "id": "44645a82-c637-43ba-be3d-86eb5e78b3ef",
   "metadata": {},
   "source": [
    "(3)\n",
    "In this notebook, Data Science Tools and Ecosystem are summarized."
   ]
  },
  {
   "cell_type": "markdown",
   "id": "4e470e0d-61d9-44e6-9fe2-f642f84fac04",
   "metadata": {},
   "source": [
    "(4)\n",
    "Some of the popular languages that Data Scientists use are:\n",
    "<ol>\n",
    "  <li>Python</li>\n",
    "  <li>R</li>\n",
    "  <li>C++</li>\n",
    "</ol>"
   ]
  },
  {
   "cell_type": "markdown",
   "id": "58390353-1469-41fd-a6a1-b969915277f3",
   "metadata": {},
   "source": [
    "(5)\n",
    "Some of the commonly used libraries used by Data Scientists include:\n",
    "<ol>\n",
    "  <li>TensorFlow</li>\n",
    "  <li>PyTorch</li>\n",
    "  <li>Keras</li>\n",
    "</ol>"
   ]
  },
  {
   "cell_type": "markdown",
   "id": "29d40fae-2cf5-489f-875e-7d2b58e6707b",
   "metadata": {},
   "source": [
    "(6)\n",
    "Data Science Tools\n",
    "| Tool Purpose/Description | Tool Example |\n",
    "| --------------------------------------- | -------------------------------- |\n",
    "| Defining the Business Problem | .pptx or meeting |\n",
    "| Data Acquisition | CSV File output from some sensors |\n",
    "| Data Storage and Version Control | Git/GitHub |\n",
    "| Document Process | Jupyter Lab/Notebook |\n",
    "| Programming Language for Data Science | Python |\n",
    "| Programming Language for Data Science | R |"
   ]
  },
  {
   "cell_type": "markdown",
   "id": "237e2d0f-8a20-4de8-aa09-4ac4d834d76c",
   "metadata": {},
   "source": [
    "<h3><br>(7)</br>Below are a few examples of evaluating arithmetic expressions in Python</h3>"
   ]
  },
  {
   "cell_type": "code",
   "execution_count": 20,
   "id": "5e52a035-dada-4b2e-8009-dc245c306ce2",
   "metadata": {},
   "outputs": [
    {
     "name": "stdout",
     "output_type": "stream",
     "text": [
      "D = ( 3 * 4 ) + 5\n",
      "17\n"
     ]
    }
   ],
   "source": [
    "### (8) This a simple arithmetic expression to mutiply then add integers\n",
    "A=3\n",
    "B=4\n",
    "C=5\n",
    "print(\"D = (\",A,\"*\",B,\") +\",C)\n",
    "D=(A*B)+C\n",
    "print(D)"
   ]
  },
  {
   "cell_type": "code",
   "execution_count": 24,
   "id": "8b019b40-d473-4235-830b-f6650467e4ad",
   "metadata": {},
   "outputs": [
    {
     "name": "stdout",
     "output_type": "stream",
     "text": [
      "200 minutes =  3.3333333333333335 hours\n"
     ]
    }
   ],
   "source": [
    "### (9) This will convert 200 minutes to hours by diving by 60\n",
    "mins=200\n",
    "hrs=mins/60\n",
    "print(mins,\"minutes = \",hrs,\"hours\")"
   ]
  },
  {
   "cell_type": "markdown",
   "id": "43c13cd8-55dd-4589-9b14-01b65a2101c1",
   "metadata": {},
   "source": [
    "(11)\n",
    "<h2>Author</h2>\n",
    "Jonathan Harrison (2025)"
   ]
  },
  {
   "cell_type": "code",
   "execution_count": null,
   "id": "139b93b1-f49e-475e-8b56-5bb070b50d3d",
   "metadata": {},
   "outputs": [],
   "source": []
  }
 ],
 "metadata": {
  "kernelspec": {
   "display_name": "Python [conda env:base] *",
   "language": "python",
   "name": "conda-base-py"
  },
  "language_info": {
   "codemirror_mode": {
    "name": "ipython",
    "version": 3
   },
   "file_extension": ".py",
   "mimetype": "text/x-python",
   "name": "python",
   "nbconvert_exporter": "python",
   "pygments_lexer": "ipython3",
   "version": "3.12.7"
  }
 },
 "nbformat": 4,
 "nbformat_minor": 5
}
