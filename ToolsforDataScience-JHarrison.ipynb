{
 "cells": [
  {
   "cell_type": "markdown",
   "id": "adb399cc-2c84-4a83-8ae3-fd972624c48f",
   "metadata": {},
   "source": [
    "(2)\n",
    "Tools for Data Science - Individual Assignment, submitted by Jonathan Harrison"
   ]
  },
  {
   "cell_type": "markdown",
   "id": "44645a82-c637-43ba-be3d-86eb5e78b3ef",
   "metadata": {},
   "source": [
    "(3)\n",
    "The purpose of this Notebook is to demonstrate my ability in using Jupyter Notebook.\n",
    "This assignment is a part of the \"Tools for Data Science\" class as a part of IBM Data Science Certificate.\n",
    "This assignment will consist of several markdown cells and code cells as defined in Module 6.\n",
    "Thank you"
   ]
  },
  {
   "cell_type": "markdown",
   "id": "4e470e0d-61d9-44e6-9fe2-f642f84fac04",
   "metadata": {},
   "source": [
    "(4)\n",
    "The Data Science Language used in this notebook is Python.  Other usable languages for data Science are R, Java, Javascript, C++, among others."
   ]
  },
  {
   "cell_type": "markdown",
   "id": "58390353-1469-41fd-a6a1-b969915277f3",
   "metadata": {},
   "source": [
    "(5)\n",
    "Some Data Science libraries include: TensorFlow, PyTorch, and Keras"
   ]
  },
  {
   "cell_type": "markdown",
   "id": "29d40fae-2cf5-489f-875e-7d2b58e6707b",
   "metadata": {},
   "source": [
    "(6)\n",
    "Data Science Tools\n",
    "| Tool Purpose/Description | Tool Example |\n",
    "| --------------------------------------- | -------------------------------- |\n",
    "| Defining the Business Problem | .pptx or meeting |\n",
    "| Data Acquisition | CSV File output from some sensors |\n",
    "| Data Storage and Version Control | Git/GitHub |\n",
    "| Document Process | Jupyter Lab/Notebook |\n",
    "| Programming Language for Data Science | Python |\n",
    "| Programming Language for Data Science | R |"
   ]
  },
  {
   "cell_type": "markdown",
   "id": "237e2d0f-8a20-4de8-aa09-4ac4d834d76c",
   "metadata": {},
   "source": [
    "(7)\n",
    "A1 + B1 = C1\n",
    "A2 * B2 = C2"
   ]
  },
  {
   "cell_type": "code",
   "execution_count": 15,
   "id": "5e52a035-dada-4b2e-8009-dc245c306ce2",
   "metadata": {},
   "outputs": [
    {
     "name": "stdout",
     "output_type": "stream",
     "text": [
      "C1= 9\n",
      "C2= 5\n"
     ]
    }
   ],
   "source": [
    "### (8)\n",
    "A1=4\n",
    "B1=5\n",
    "A2=2\n",
    "B2=3\n",
    "C1=A1+B1\n",
    "C2=A2+B2\n",
    "print(A1,\"+\",B1,\"=\",C1)\n",
    "print(A2,\"+\",B2,\"=\",C2)"
   ]
  },
  {
   "cell_type": "code",
   "execution_count": 5,
   "id": "8b019b40-d473-4235-830b-f6650467e4ad",
   "metadata": {},
   "outputs": [
    {
     "name": "stdout",
     "output_type": "stream",
     "text": [
      "150 minutes =  2.5 hours\n"
     ]
    },
    {
     "name": "stdin",
     "output_type": "stream",
     "text": [
      "Enter any number of minutes, to convert to hours:  09888\n"
     ]
    },
    {
     "name": "stdout",
     "output_type": "stream",
     "text": [
      "9888 minutes =  164.8 hours\n"
     ]
    }
   ],
   "source": [
    "### (9)\n",
    "mins=150\n",
    "hrs=mins/60\n",
    "print(mins,\"minutes = \",hrs,\"hours\")\n",
    "user_input = input(\"Enter any number of minutes, to convert to hours: \")\n",
    "try:\n",
    "    mins=int(user_input)\n",
    "    hrs=mins / 60\n",
    "    if(hrs>=0):\n",
    "        print(mins,\"minutes = \",hrs,\"hours\")\n",
    "    elif(hrs<0):\n",
    "        print(\"Not a positive number\")\n",
    "    else:\n",
    "        print(\"Not a Number\")\n",
    "except ValueError:\n",
    "    print(user_input,\"is not a number, please type a number next time\")"
   ]
  },
  {
   "cell_type": "markdown",
   "id": "46a76389-a13c-4410-ba78-6189750e2356",
   "metadata": {},
   "source": [
    "(10)\n",
    "My objective with this simple notebook is to submit an assignment for my IBM Data Science Certification"
   ]
  },
  {
   "cell_type": "markdown",
   "id": "43c13cd8-55dd-4589-9b14-01b65a2101c1",
   "metadata": {},
   "source": [
    "(11)\n",
    "Author: Jonathan Harrison (2025)"
   ]
  }
 ],
 "metadata": {
  "kernelspec": {
   "display_name": "Python [conda env:base] *",
   "language": "python",
   "name": "conda-base-py"
  },
  "language_info": {
   "codemirror_mode": {
    "name": "ipython",
    "version": 3
   },
   "file_extension": ".py",
   "mimetype": "text/x-python",
   "name": "python",
   "nbconvert_exporter": "python",
   "pygments_lexer": "ipython3",
   "version": "3.12.7"
  }
 },
 "nbformat": 4,
 "nbformat_minor": 5
}
